{
 "cells": [
  {
   "cell_type": "markdown",
   "id": "642292a7-d7d0-4fdd-85ca-557dd4e24422",
   "metadata": {
    "tags": []
   },
   "source": [
    "# Driving force extension method - hands-on tutorial"
   ]
  },
  {
   "cell_type": "markdown",
   "id": "1816ec78-88c8-42c9-9e42-b17bd47aec08",
   "metadata": {},
   "source": [
    "Reference: \n",
    "\n",
    "> J. Zhang, A. F. Chadwick, D. L. Chopp, P. W. Voorhees, “Phase Field Modeling with Large Driving Forces,” npj Computational Materials, 9 (2023) 166. doi: [10.1038/s41524-023-01118-0](https://doi.org/10.1038/s41524-023-01118-0)"
   ]
  },
  {
   "cell_type": "markdown",
   "id": "ca4e68d9-7be3-4742-a7bf-944c764e7c1f",
   "metadata": {},
   "source": [
    "# Introduction\n",
    "\n",
    "Phase field equation typically has the following form\n",
    "$$\n",
    "\\tau\\frac{\\partial \\phi}{\\partial t} = \\kappa \\nabla^2{\\phi} - m g'(\\phi) - p'(\\phi) F\n",
    "$$\n",
    "where $F$ is the driving force. Phase field simulations with a large driving force and a large grid size can be unstable. \n",
    "\n",
    "\n",
    "![unstable](img/stability.png) |\n",
    "-\n",
    "\n",
    "The driving force extension method introduces a simple modification of the equation\n",
    "$$\n",
    "\\tau\\frac{\\partial \\phi}{\\partial t} = \\kappa \\nabla^2{\\phi} - m g'(\\phi) - p'(\\phi) \\mathcal{P}(F),\n",
    "$$\n",
    "where $\\mathcal{P}$ projects $F$ to a constant perpendicular to the interface:\n",
    "$$\n",
    "\\mathcal{P}(F(\\vec{x}, t)) = F(\\vec{x}_\\Gamma, t).\n",
    "$$\n",
    "Here, $\\vec{x}_\\Gamma$ is the closest point on the interface $\\Gamma$:\n",
    "$$\n",
    "\\vec{x}_\\Gamma(\\vec{x}) = \\{\\vec{y} : \\min_{\\vec{y}\\in \\Gamma} |{\\vec{y}-\\vec{x}}|\\}\n",
    "$$\n",
    "\n",
    "![unstable](img/mapping.png) |\n",
    "-\n",
    "\n",
    "Let's use the KKS model for demonstration."
   ]
  },
  {
   "cell_type": "markdown",
   "id": "d03a2932-5f56-4439-a7ad-751f1acc11cd",
   "metadata": {},
   "source": [
    "# KKS model\n",
    "\n",
    "Here I use the KKS model<sup>[1]</sup> as an example. Let's first briefly overview the KKS model.\n",
    "\n",
    "The free energy of the system is\n",
    "$$\n",
    "F[\\phi, c] = \\int{\\frac{1}{2}\\kappa |{\\nabla{\\phi}}^2| + m g(\\phi) + p(\\phi) f^s(c^s)+(1-p(\\phi))f^l(c^l) }{\\, \\mathrm{d} V},\n",
    "$$\n",
    "where $\\phi$ is the phase field variable and $c$ is concentration.\n",
    "\n",
    "Two constraints need to be fulfilled. First, the total concentration is interpolated between the phase concentrations\n",
    "$$\n",
    "c = p(\\phi) c^s + (1-p(\\phi)) c^l.\n",
    "$$\n",
    "Second, the quasi-local-equilibrium constraint\n",
    "$$\n",
    "\\tilde{\\mu} = \\frac{\\mathrm{d} f^s}{\\mathrm{d} c^s} = \\frac{\\mathrm{d} f^l}{\\mathrm{d} c^l},\n",
    "$$\n",
    "where $\\tilde{\\mu}$ is the diffusion potential. We can solve the phase concentration $c^s$ and $c^l$ from the phase field $\\phi$ and the total concentration $c$ from these two constraints.\n",
    "\n",
    "The evolution equations for the KKS model are\n",
    "$$\n",
    "\\frac{1}{L} \\frac{\\partial \\phi}{\\partial t} = \\kappa \\nabla^2{\\phi} - m g'(\\phi) - p'(\\phi) \\left(f^s -f^l - (c^s-c^l) \\tilde{\\mu} \\right),\n",
    "$$\n",
    "$$\n",
    "\\frac{\\partial c}{\\partial t} = \\nabla\\cdot{\\left(M \\nabla{\\tilde{\\mu}}\\right)}.\n",
    "$$\n",
    "\n",
    "[1] SG Kim, WT Kim, and T Suzuki. Phase-field model for binary alloys. Physical Review E, 60(6), 7186-7197 (1999)."
   ]
  },
  {
   "cell_type": "markdown",
   "id": "cac36723-aba7-4771-ac93-9ac0634f20b3",
   "metadata": {},
   "source": [
    "### Simple case\n",
    "To make life easier and focus on the stability problem of large driving forces, we make the following assumptions.\n",
    "\n",
    "First, we assume a parabolic free energy\n",
    "$$\n",
    "f^\\alpha(c^\\alpha) = \\frac{1}{2} B (c^\\alpha-c^\\alpha_0)^2.\n",
    "$$\n",
    "Note we assume $A^s=A^l=0$ and $B^s=B^l=B$.\n",
    "\n",
    "Second, we assume $D=D^s=D^l$.\n",
    "\n",
    "Third, we assume the interface is at local equilibrium, so the phase field mobility $L$ is\n",
    "$$\n",
    "L = \\frac{D}{6 a l^2 B \\Delta c_0^2},\n",
    "$$\n",
    "where $l$ is diffuse interface width, $\\Delta c_0 = c_0^l-c_0^s$, $a=5/6$ for third-order interpolation $p(\\phi)=\\phi^3(3-2\\phi)$ and $a=47/60$ for fifth-order interpolation $p(\\phi)=\\phi^3(6\\phi^2-15\\phi+10)$."
   ]
  },
  {
   "cell_type": "markdown",
   "id": "5baa8474-de62-43c4-8fc3-f0a18bd18c4b",
   "metadata": {},
   "source": [
    "### Nondimensionalization\n",
    "We nondimensionalize length by the system size $L_{\\text{sys}}$, time by the diffusion timescale $L_{\\text{sys}}^2/D$, energy density by $RT/V_m$, concentration by $1/V_m$.\n",
    "\n",
    "The dimensionless evolution equations are\n",
    "$$\n",
    "b \\frac{\\partial \\phi}{\\partial t} = \\gamma \\left(\\epsilon^2 \\nabla^2{\\phi} - \\frac{1}{2} g'(\\phi)\\right) - p'(\\phi) F,\n",
    "$$\n",
    "$$\n",
    "B \\frac{\\partial x}{\\partial t} = \\nabla^2{\\tilde{\\mu}},\n",
    "$$\n",
    "where $b=6a \\epsilon^2 \\Delta x_0^2 B$, $\\epsilon = l/L_{\\text{sys}}$ is the dimensionless interface width, $\\gamma = 6 \\sigma V_m/(RTl)$ is the dimensionless surface energy, molar fraction $x = V_m c$, and $\\Delta x_0 = x_0^l-x_0^s$.\n",
    "\n",
    "The dimensionless diffusion potential is\n",
    "$$\n",
    "\\tilde{\\mu} = B \\left(x - p(\\phi) x_0^s - (1-p) x_0^l\\right).\n",
    "$$\n",
    "The dimensionless driving force is\n",
    "$$\n",
    "F = \\tilde{\\mu} \\Delta x_0.\n",
    "$$\n",
    "Clearly, $F$ scales with $B$."
   ]
  },
  {
   "cell_type": "markdown",
   "id": "a0984338-b116-46df-8fcb-2008cf3c63da",
   "metadata": {
    "tags": []
   },
   "source": [
    "### Driving force extension method\n",
    "The driving force extension method introduces a simple modification of the phase field equation:\n",
    "$$\n",
    "b \\frac{\\partial \\phi}{\\partial t} = \\gamma \\left(\\epsilon^2 \\nabla^2{\\phi} - \\frac{1}{2} g'(\\phi)\\right) - p'(u) \\color{red}{\\mathcal{P}(F)},\n",
    "$$"
   ]
  },
  {
   "cell_type": "markdown",
   "id": "2801c651-dd05-4d36-b7da-57670d99aeca",
   "metadata": {},
   "source": [
    "# Implementation\n",
    "\n",
    "For simplicity, let's use a 1D case."
   ]
  },
  {
   "cell_type": "markdown",
   "id": "e9a3ffa2-2beb-43a7-b440-98297b6c7d71",
   "metadata": {},
   "source": [
    "Let's import the needed packages. Here we only need *numpy* and *matplotlib*. If you don't have them installed, use the following command"
   ]
  },
  {
   "cell_type": "code",
   "execution_count": null,
   "id": "bc53dc52-b4e0-4c5d-99d2-33012f68e20f",
   "metadata": {},
   "outputs": [],
   "source": [
    "!pip install numpy matplotlib"
   ]
  },
  {
   "cell_type": "code",
   "execution_count": 1,
   "id": "b9fd7f45-1116-4c4c-a2b8-8ce5c03bdade",
   "metadata": {
    "tags": []
   },
   "outputs": [],
   "source": [
    "# import needed packages\n",
    "import numpy as np\n",
    "import matplotlib.pyplot as plt"
   ]
  },
  {
   "cell_type": "markdown",
   "id": "cf143de8-2022-413b-b5c4-6a5c5a60c147",
   "metadata": {},
   "source": [
    "Let's define some useful functions. Note that I use cell-based finite difference."
   ]
  },
  {
   "cell_type": "code",
   "execution_count": 2,
   "id": "d1625170-1773-4a24-a787-cc1834933853",
   "metadata": {
    "tags": []
   },
   "outputs": [],
   "source": [
    "def dg(x): # 0.5 * g'(x)\n",
    "    return x * (1-x) * (1-2*x)\n",
    "def laplacian_1d(u, dx): # laplacian of u\n",
    "    return (u[2:] + u[0:-2] - 2.0 * u[1:-1]) / dx ** 2\n",
    "def apply_bc(phi, c, xl, xr): # apply boundary conditions\n",
    "    phi[0]  = phi[1]   # no-flux\n",
    "    phi[-1] = phi[-2]  # no-flux\n",
    "    c[0]  = 2 * xl - c[1]   # dirichlet\n",
    "    c[-1] = 2 * xr - c[-2]  # dirichlet"
   ]
  },
  {
   "cell_type": "markdown",
   "id": "73846ed5-2f86-4ca7-aca3-1d584257c47a",
   "metadata": {},
   "source": [
    "Let's now implement the driving force extension $\\mathcal{P}(f)$. The algorithm has been well-developed in the level-set community and is called the velocity extension<sup>[2]</sup>. The following considers a very simple case: a single interface inside a 1D domain. A general algorithm is needed for more general cases. We will talk about this later.\n",
    "\n",
    "[2] Adalsteinsson, D. and Sethian, J. The fast construction of extension velocities in level set methods. J. Comput. Phys. 148, 2-22 (1999)."
   ]
  },
  {
   "cell_type": "code",
   "execution_count": 3,
   "id": "8296348a-a8cf-4705-af92-85d965dcb426",
   "metadata": {
    "tags": []
   },
   "outputs": [],
   "source": [
    "# velocity extension, u is the level-set, u=0 gives the location of the interface\n",
    "def velext_simple(u, f):\n",
    "    i = np.where(u[:-1] * u[1:] < 0)[0][0] # find place where u crosses zero\n",
    "    return (f[i+1]*u[i] - f[i]*u[i+1]) / (u[i]-u[i+1]) # linear interpolation"
   ]
  },
  {
   "cell_type": "markdown",
   "id": "948300d4-62b4-4fd2-a88d-f2d565d087a9",
   "metadata": {},
   "source": [
    "$u=0$ gives the location of the interface $\\Gamma$. You can use $u=\\phi-0.5$. "
   ]
  },
  {
   "cell_type": "markdown",
   "id": "c8f666d3-f173-4c70-a429-ee39536d7008",
   "metadata": {},
   "source": [
    "Let's do a quick test."
   ]
  },
  {
   "cell_type": "code",
   "execution_count": 4,
   "id": "045fea9b-e736-4a32-ab0d-93da6c636b9a",
   "metadata": {
    "tags": []
   },
   "outputs": [
    {
     "data": {
      "text/plain": [
       "<matplotlib.legend.Legend at 0x7f8a54342470>"
      ]
     },
     "execution_count": 4,
     "metadata": {},
     "output_type": "execute_result"
    },
    {
     "data": {
      "image/png": "[encoded data removed]",
      "text/plain": [
       "<Figure size 640x480 with 1 Axes>"
      ]
     },
     "metadata": {},
     "output_type": "display_data"
    }
   ],
   "source": [
    "x = np.linspace(0, 1, 20)-0.42 # coordinate\n",
    "u = x  # interface is at x=0\n",
    "f = np.sinh(x*4)+1     # driving force\n",
    "pf=velext_simple(u, f) # projected driving force\n",
    "plt.plot(u,f, label='F')\n",
    "plt.plot(u,np.full_like(u,pf), label='P(F)')\n",
    "plt.legend()"
   ]
  },
  {
   "cell_type": "markdown",
   "id": "77423c3c-c29e-4ded-a8d6-2df44463cc9a",
   "metadata": {
    "tags": []
   },
   "source": [
    "Now, let's implement the KKS model. We set $x_0^s=0.1$ and $x_0^l=0.9$. The molar fraction at the right boundary is fixed to be $x_0=0.5$."
   ]
  },
  {
   "cell_type": "code",
   "execution_count": 5,
   "id": "736ac0f4-c65a-4890-a660-a4471d2bbce0",
   "metadata": {
    "tags": []
   },
   "outputs": [],
   "source": [
    "def kks1d(B, dx=0.01, ptype='3rd', dfe=True):\n",
    "    '''\n",
    "    B : [] parabolic free energy parameter\n",
    "    dx : [] grid size\n",
    "    ptype : type of interpolation function\n",
    "    dfe : whether we apply for the driving force extension\n",
    "    ------\n",
    "    assume D=D^s=D^l, B=B^s=B^l\n",
    "    '''\n",
    "    # interpolation function\n",
    "    if ptype == '3rd':\n",
    "        pfun  = lambda x : x**2 * (3.0 - 2.0 * x)\n",
    "        dpfun = lambda x : 6.0 * x * (1-x)\n",
    "    elif ptype == '5th':\n",
    "        pfun  = lambda x : x**3 * (6.0 * x**2 - 15.0 * x + 10.0)\n",
    "        dpfun = lambda x : 30 * x**2 * (1-x)**2\n",
    "\n",
    "    # geometry\n",
    "    L = 1.28  # [] size of the whole system\n",
    "    Li = 0.28 # [] initial location of the interface\n",
    "    epsilon = 1.5*dx # [] dimensionless interface width\n",
    "\n",
    "    # parameters\n",
    "    T = 298.15    # [K] temperature\n",
    "    R = 8.314     # [J/K mol] gass constant\n",
    "    Vm = 1.1e-5   # [m^3/mol] molar volume\n",
    "    Lsys = 100e-6 # [m] system size\n",
    "    sigma = 0.5   # [J/m^2] surface energy\n",
    "    gamma = 6*sigma*Vm/(R*T*epsilon*Lsys) # [] dimensionless surface energy\n",
    "    x0s = 0.1    # [] parabolic free energy parameter\n",
    "    x0l = 0.9    # [] parabolic free energy parameter\n",
    "    x0 = 0.5     # [] far field concentration\n",
    "    a = 5.0 / 6.0 if ptype == '3rd' else 47.0 / 60.0\n",
    "    one_over_b = 1.0/(6*a*( epsilon * (x0l-x0s) )**2 * B) # [] 1/b\n",
    "    dt = dx**2/8.0   # [] timestep size\n",
    "\n",
    "    # initial condition\n",
    "    nx = int(L/dx) # number of interior grids\n",
    "    X = np.linspace(-0.5, nx + 0.5, nx + 2) * dx - Li # [] coordinate\n",
    "    phi = 0.5 * (1.0 - np.tanh(0.5 * X / epsilon))    # [] phase field\n",
    "    xl = x0l + (X > 0) * X / (L - Li) * (x0 - x0l)    # [] assume an initial linear profile\n",
    "    p = pfun(phi)\n",
    "    c = p * x0s + (1-p)*xl # [] concentration\n",
    "    apply_bc(phi, c, x0s, x0)\n",
    "\n",
    "    # time loop\n",
    "    nt = int(0.6/dt)\n",
    "    for t in range(0, nt):  #\n",
    "        p = pfun(phi)\n",
    "        dp = dpfun(phi)[1:-1]\n",
    "        mu_over_B = c - p*x0s - (1-p)*x0l # diffusion potential\n",
    "        F = B * mu_over_B * (x0l-x0s)     # driving force\n",
    "\n",
    "        PF = velext_simple(phi-0.5,F) if dfe else F[1:-1] # driving force extension\n",
    "\n",
    "        # forward Euler\n",
    "        dphi = dt * one_over_b * (gamma * (epsilon**2 * laplacian_1d(phi, dx) - dg(phi[1:-1])) - dp*PF)\n",
    "        dc = dt * laplacian_1d(mu_over_B, dx)\n",
    "\n",
    "        # update\n",
    "        phi[1:-1] += dphi\n",
    "        c[1:-1] += dc\n",
    "        apply_bc(phi, c, x0s, x0)\n",
    "\n",
    "    # plotting\n",
    "    plt.clf()\n",
    "    plt.plot(X,phi, label='phi')\n",
    "    plt.plot(X,c, label='c')\n",
    "    plt.legend()"
   ]
  },
  {
   "cell_type": "markdown",
   "id": "2ac92153-07d4-4b7c-8afe-8e5341da0697",
   "metadata": {},
   "source": [
    "Let's try it!"
   ]
  },
  {
   "cell_type": "code",
   "execution_count": null,
   "id": "d1cc7db6-a785-4acc-8352-bee9b32973cf",
   "metadata": {},
   "outputs": [],
   "source": [
    "kks1d(B=0.001, dx=0.01, ptype='3rd', dfe=False)"
   ]
  },
  {
   "cell_type": "code",
   "execution_count": null,
   "id": "8d19b378-1708-428c-9db3-961324329dfc",
   "metadata": {},
   "outputs": [],
   "source": [
    "kks1d(B=0.01, dx=0.01, ptype='3rd', dfe=False)"
   ]
  },
  {
   "cell_type": "code",
   "execution_count": null,
   "id": "2c062209-a33e-4e8b-90bc-76bc2f996640",
   "metadata": {},
   "outputs": [],
   "source": [
    "kks1d(B=0.01, dx=0.01, ptype='5th', dfe=False)"
   ]
  },
  {
   "cell_type": "code",
   "execution_count": null,
   "id": "9d23dfd3-11df-4ba9-a50a-99a54396456c",
   "metadata": {},
   "outputs": [],
   "source": [
    "kks1d(B=0.1, dx=0.01, ptype='5th', dfe=False)"
   ]
  },
  {
   "cell_type": "code",
   "execution_count": null,
   "id": "0a9b3e51-b6e9-4fc7-986e-02464b2c0683",
   "metadata": {},
   "outputs": [],
   "source": [
    "kks1d(B=0.1, dx=0.005, ptype='5th', dfe=False)"
   ]
  },
  {
   "cell_type": "code",
   "execution_count": null,
   "id": "a26091e0-ff41-4c78-86e5-62b76323d364",
   "metadata": {},
   "outputs": [],
   "source": [
    "kks1d(B=1.0, dx=0.005, ptype='5th', dfe=False)"
   ]
  },
  {
   "cell_type": "markdown",
   "id": "b97b6eeb-2525-4345-b2f1-80c0cdbd16a6",
   "metadata": {
    "tags": []
   },
   "source": [
    "You will get something like\n",
    "\n",
    "![result](img/kks_stability.png) |\n",
    "-\n",
    "\n",
    "For the case of the original model, the 5-th order interpolation is more stable than the 3-rd order interpolation. However, they both have an upper bound on the magnitude of the driving force."
   ]
  },
  {
   "cell_type": "code",
   "execution_count": null,
   "id": "b7a7cfc2-be4a-4593-956e-ff48f819c117",
   "metadata": {},
   "outputs": [],
   "source": [
    "kks1d(B=1.0, dx=0.005, ptype='3rd', dfe=True)"
   ]
  },
  {
   "cell_type": "markdown",
   "id": "de467a14-f6d3-4c05-ad26-8e98a5ba84a7",
   "metadata": {},
   "source": [
    "The driving force extension method does not have this upper bound."
   ]
  },
  {
   "cell_type": "markdown",
   "id": "f730e0fc-bf85-4469-b921-d0dc5b02e1b6",
   "metadata": {},
   "source": [
    "## Velocity extension for general cases"
   ]
  },
  {
   "cell_type": "markdown",
   "id": "99fb0bde-b835-4226-b226-02377bdeae87",
   "metadata": {},
   "source": [
    "For more general cases, we need more complex velocity extension algorithms. See Ref.[3] for a review. Following is a modified version of the Fast Sweep Method/Fast Iterative Method for the 1D case.\n",
    "\n",
    "[3] G&oacute;mez et al, Fast methods for Eikonal equations: an experimental survey, IEEE Access (2019)"
   ]
  },
  {
   "cell_type": "code",
   "execution_count": 6,
   "id": "27937e8f-dd40-493b-afbd-4d63381f1875",
   "metadata": {
    "tags": []
   },
   "outputs": [],
   "source": [
    "def velext_fim(u, f): # velocity extension general 1D case (fast iterative method)\n",
    "    nx = u.shape[0]\n",
    "    d = np.full_like(u, np.inf)       # distance function\n",
    "    s = np.full_like(u, 2, dtype=int) # 1 - distant, 0 - tentaive, -1 - initialize, -2 - converged\n",
    "    w = np.empty_like(f) # extended driving force\n",
    "    id = np.where(u[:-1] * u[1:] < 0)[0]\n",
    "    assert id.size, \"no interface!\"\n",
    "    for i in id:\n",
    "        s[i:i+2] = -1\n",
    "        t_ = u[i] / (u[i]-u[i+1]) # linear interpolation\n",
    "        d[i] = np.abs(t_)\n",
    "        d[i+1] = np.abs(1-t_)\n",
    "        w[i] = (1-t_)*f[i]+t_*f[i+1] # extended driving force\n",
    "        w[i+1] = w[i]\n",
    "    while np.any(s>-1): # loop until everything is converged\n",
    "        for i in range(0, nx-1, 1): # sweep ->\n",
    "            if s[i] < 1 and s[i+1] > -1:\n",
    "                d_ = d[i]+1\n",
    "                r_ = d[i+1] - d_ # difference\n",
    "                if r_ >= 0:\n",
    "                    d[i+1] = d_ # update\n",
    "                    if r_ == 0 and s[i]<0:\n",
    "                        s[i+1] = -2 # converged\n",
    "                        w[i+1] = w[i]\n",
    "                    else:\n",
    "                        s[i+1] = 0 # active\n",
    "        for i in range(nx-1, 0, -1): # sweep <-\n",
    "            if s[i] < 1 and s[i-1] > -1:\n",
    "                d_ = d[i]+1\n",
    "                r_ = d[i-1] - d_ # difference\n",
    "                if r_ >= 0:\n",
    "                    d[i-1] = d_ # update\n",
    "                    if r_ == 0 and s[i]<0:\n",
    "                        s[i-1] = -2 # converged\n",
    "                        w[i-1] = w[i]\n",
    "                    else:\n",
    "                        s[i-1] = 0 # active\n",
    "    return w[1:-1] # without ghost layer"
   ]
  },
  {
   "cell_type": "markdown",
   "id": "9810343d-ebea-4324-a7cc-e80788cb2c90",
   "metadata": {},
   "source": [
    "Let's test it."
   ]
  },
  {
   "cell_type": "code",
   "execution_count": 7,
   "id": "7abf4c87-720d-449a-8425-698a72ba4916",
   "metadata": {
    "tags": []
   },
   "outputs": [
    {
     "data": {
      "text/plain": [
       "<matplotlib.legend.Legend at 0x7f8a60892560>"
      ]
     },
     "execution_count": 7,
     "metadata": {},
     "output_type": "execute_result"
    },
    {
     "data": {
      "image/png": "[encoded data removed]",
      "text/plain": [
       "<Figure size 640x480 with 2 Axes>"
      ]
     },
     "metadata": {},
     "output_type": "display_data"
    }
   ],
   "source": [
    "x = np.linspace(0, 1, 20)-0.42\n",
    "u = x**2-0.05\n",
    "f = np.sinh(x*4)+1\n",
    "pf=velext_fim(u, f)\n",
    "plt.subplot(211)\n",
    "plt.plot(x[1:-1],u[1:-1], label='u')\n",
    "plt.plot(x[1:-1],0*u[1:-1], label='0')\n",
    "plt.legend()\n",
    "plt.subplot(212)\n",
    "plt.plot(x[1:-1],f[1:-1], label='F')\n",
    "plt.plot(x[1:-1],pf, label='P(F)')\n",
    "plt.legend()"
   ]
  },
  {
   "cell_type": "markdown",
   "id": "b93d382a-6fea-4228-8df0-453a8e2758d1",
   "metadata": {},
   "source": [
    "# Summary\n",
    "\n",
    "The driving force extension method can solve the stability problem with a large driving force. It is simple because you can easily combine it with your existing phase field code.\n",
    "\n",
    "You can find more details in our paper. For questions, comments, suggestions, or bug reports, email me at [jzhang\\@northwestern.edu](mailto:jzhang@northwestern.edu) or visit [github](https://github.com/jijn/dfe_tutorial)."
   ]
  }
 ],
 "metadata": {
  "kernelspec": {
   "display_name": "Python 3 (ipykernel)",
   "language": "python",
   "name": "python3"
  },
  "language_info": {
   "codemirror_mode": {
    "name": "ipython",
    "version": 3
   },
   "file_extension": ".py",
   "mimetype": "text/x-python",
   "name": "python",
   "nbconvert_exporter": "python",
   "pygments_lexer": "ipython3",
   "version": "3.10.10"
  }
 },
 "nbformat": 4,
 "nbformat_minor": 5
}
